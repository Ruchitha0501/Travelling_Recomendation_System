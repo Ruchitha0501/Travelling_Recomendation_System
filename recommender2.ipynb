{
 "cells": [
  {
   "cell_type": "code",
   "execution_count": 46,
   "id": "43c57f87",
   "metadata": {},
   "outputs": [],
   "source": [
    "import pandas as pd\n",
    "from sklearn.metrics.pairwise import cosine_similarity\n"
   ]
  },
  {
   "cell_type": "code",
   "execution_count": 47,
   "id": "3928ba06",
   "metadata": {},
   "outputs": [
    {
     "name": "stdout",
     "output_type": "stream",
     "text": [
      "Step 1: Dataset head:\n",
      "                 Hotel_Name  Hotel_Rating   City     Feature_1       Feature_2  \\\n",
      "0       Crowne Plaza Kochi           4.6  kochi  5-star hotel  Free breakfast   \n",
      "1     Trident Hotel Cochin           4.5  kochi  5-star hotel  Free breakfast   \n",
      "2        The Galaxy Suites           3.8  kochi     Apartment       Sleeps 10   \n",
      "3         The Renai cochin           4.2  kochi  4-star hotel  Free breakfast   \n",
      "4  Ramada by Wyndham Kochi           4.5  kochi  5-star hotel       Breakfast   \n",
      "\n",
      "      Feature_3     Feature_4            Feature_5           Feature_6  \\\n",
      "0    Free Wi-Fi  Free parking                 Pool             Hot tub   \n",
      "1         Wi-Fi  Free parking                 Pool    Air conditioning   \n",
      "2  Free parking    Free Wi-Fi  No air conditioning  No airport shuttle   \n",
      "3    Free Wi-Fi  Free parking                 Pool    Air conditioning   \n",
      "4    Free Wi-Fi  Free parking                 Pool    Air conditioning   \n",
      "\n",
      "          Feature_7       Feature_8     Feature_9  Hotel_Price  \n",
      "0  Air conditioning  Fitness center           Spa       8854.0  \n",
      "1    Fitness center             Spa    Restaurant       6441.0  \n",
      "2   No beach access     No elevator  No fireplace        831.0  \n",
      "3    Fitness center             Spa           Bar       2768.0  \n",
      "4    Fitness center             Spa           Bar       8938.0  \n"
     ]
    }
   ],
   "source": [
    "\n",
    "# Step 1: Load and print the head\n",
    "df = pd.read_csv(\"google_hotel_data_clean_v2.csv\")\n",
    "print(\"Step 1: Dataset head:\\n\", df.head())\n"
   ]
  },
  {
   "cell_type": "code",
   "execution_count": 48,
   "id": "b68c238b",
   "metadata": {},
   "outputs": [],
   "source": [
    "\n",
    "#Get user input for city and filter\n",
    "user_city = input(\"Enter the city for recommendations: \").strip().lower()\n",
    "df['City_lower'] = df['City'].str.lower()\n",
    "df = df[df['City_lower'] == user_city]\n",
    "if df.empty:\n",
    "    print(f\"No hotels found in city: {user_city}\")\n",
    "    exit()\n",
    "df = df.drop(columns='City_lower')\n"
   ]
  },
  {
   "cell_type": "code",
   "execution_count": 49,
   "id": "a5deccd5",
   "metadata": {},
   "outputs": [],
   "source": [
    "\n",
    "# Step 2: Keep only the second occurrence of each hotel\n",
    "df['row_number'] = df.groupby('Hotel_Name').cumcount()\n",
    "df = df[df['row_number'] == 1].drop(columns='row_number')\n"
   ]
  },
  {
   "cell_type": "code",
   "execution_count": 50,
   "id": "23705cb4",
   "metadata": {},
   "outputs": [],
   "source": [
    "\n",
    "# Step 3: Combine Feature_1 through Feature_9\n",
    "feature_cols = [f'Feature_{i}' for i in range(1, 10)]\n",
    "df['all_features'] = df[feature_cols].values.tolist()\n",
    "df['all_features'] = df['all_features'].apply(lambda x: [i for i in x if pd.notna(i)])\n"
   ]
  },
  {
   "cell_type": "code",
   "execution_count": 51,
   "id": "91a316c5",
   "metadata": {},
   "outputs": [
    {
     "name": "stdout",
     "output_type": "stream",
     "text": [
      "\n",
      "Step 4: Feature frequencies sorted:\n",
      " {'5-star hotel': 1, 'Free breakfast': 1, 'Wi-Fi': 1, 'Free parking': 1, 'Pool': 1, 'Hot tub': 1, 'Air conditioning': 1, 'Fitness center': 1, 'Spa': 1}\n"
     ]
    }
   ],
   "source": [
    "\n",
    "# Step 4: Count feature frequencies\n",
    "from collections import Counter\n",
    "flat_features = [item for sublist in df['all_features'] for item in sublist]\n",
    "feature_freq = Counter(flat_features)\n",
    "sorted_feature_freq = dict(sorted(feature_freq.items(), key=lambda x: x[1], reverse=True))\n",
    "print(\"\\nStep 4: Feature frequencies sorted:\\n\", sorted_feature_freq)\n"
   ]
  },
  {
   "cell_type": "code",
   "execution_count": 52,
   "id": "1293d75c",
   "metadata": {},
   "outputs": [
    {
     "name": "stdout",
     "output_type": "stream",
     "text": [
      "\n",
      "Step 5: Top 10 features:\n",
      " ['5-star hotel', 'Free breakfast', 'Wi-Fi', 'Free parking', 'Pool', 'Hot tub', 'Air conditioning', 'Fitness center', 'Spa']\n"
     ]
    }
   ],
   "source": [
    "\n",
    "# Step 5: Top 10 most repeated features\n",
    "top_10_features = list(sorted_feature_freq.keys())[:10]\n",
    "print(\"\\nStep 5: Top 10 features:\\n\", top_10_features)\n"
   ]
  },
  {
   "cell_type": "code",
   "execution_count": 53,
   "id": "383fa89e",
   "metadata": {},
   "outputs": [
    {
     "name": "stdout",
     "output_type": "stream",
     "text": [
      "\n",
      "Step 6: Feature mapping:\n",
      " {'5-star hotel': 'Free Breakfast', 'Free breakfast': 'Free WiFi', 'Wi-Fi': 'Parking', 'Free parking': 'Pool', 'Pool': 'Gym', 'Hot tub': 'Restaurant', 'Air conditioning': 'Pet Friendly', 'Fitness center': 'Spa', 'Spa': 'Air Conditioning'}\n"
     ]
    }
   ],
   "source": [
    "\n",
    "# Step 6: Map feature names to readable format\n",
    "feature_mapping = {\n",
    "    top_10_features[0]: 'Free Breakfast',\n",
    "    top_10_features[1]: 'Free WiFi',\n",
    "    top_10_features[2]: 'Parking',\n",
    "    top_10_features[3]: 'Pool',\n",
    "    top_10_features[4]: 'Gym',\n",
    "    top_10_features[5]: 'Restaurant',\n",
    "    top_10_features[6]: 'Pet Friendly',\n",
    "    top_10_features[7]: 'Spa',\n",
    "    #top_10_features[8]: 'Bar',\n",
    "    top_10_features[8]: 'Air Conditioning'\n",
    "}\n",
    "print(\"\\nStep 6: Feature mapping:\\n\", feature_mapping)\n"
   ]
  },
  {
   "cell_type": "code",
   "execution_count": 54,
   "id": "79cbb422",
   "metadata": {},
   "outputs": [],
   "source": [
    "\n",
    "# Step 7: Binary encode presence of each top feature\n",
    "for raw_feature, new_name in feature_mapping.items():\n",
    "    df[new_name] = df['all_features'].apply(lambda x: 1 if raw_feature in x else 0)\n"
   ]
  },
  {
   "cell_type": "code",
   "execution_count": 55,
   "id": "b2aaeea0",
   "metadata": {},
   "outputs": [
    {
     "name": "stdout",
     "output_type": "stream",
     "text": [
      "\n",
      "Step 8: Selected features:\n",
      " ['Free Breakfast', 'Free WiFi', 'Parking', 'Pool', 'Gym', 'Restaurant', 'Pet Friendly', 'Spa', 'Air Conditioning']\n"
     ]
    }
   ],
   "source": [
    "\n",
    "# Step 8: Create list of selected features\n",
    "selected_features = list(feature_mapping.values())\n",
    "print(\"\\nStep 8: Selected features:\\n\", selected_features)\n"
   ]
  },
  {
   "cell_type": "code",
   "execution_count": 56,
   "id": "d13c2afc",
   "metadata": {},
   "outputs": [
    {
     "name": "stdout",
     "output_type": "stream",
     "text": [
      "\n",
      "Step 9: Final DataFrame:\n",
      "                           Hotel_Name  Hotel_Rating  Hotel_Price  \\\n",
      "161  The LaLiT Golf & Spa Resort Goa           4.4      11855.0   \n",
      "\n",
      "     Free Breakfast  Free WiFi  Parking  Pool  Gym  Restaurant  Pet Friendly  \\\n",
      "161               1          1        1     1    1           1             1   \n",
      "\n",
      "     Spa  Air Conditioning  \n",
      "161    1                 1  \n"
     ]
    }
   ],
   "source": [
    "\n",
    "# Step 9: Create final DataFrame\n",
    "df['Hotel_Rating'] = pd.to_numeric(df['Hotel_Rating'], errors='coerce')\n",
    "df['Hotel_Price'] = pd.to_numeric(df['Hotel_Price'], errors='coerce')\n",
    "df_rec = df[['Hotel_Name', 'Hotel_Rating', 'Hotel_Price'] + selected_features].dropna()\n",
    "print(\"\\nStep 9: Final DataFrame:\\n\", df_rec.head())\n"
   ]
  },
  {
   "cell_type": "code",
   "execution_count": 57,
   "id": "c528db79",
   "metadata": {},
   "outputs": [],
   "source": [
    "\n",
    "# Step 10: User feature preferences (update this as needed)\n",
    "user_input = [0, 1, 0, 1, 0, 0, 0, 1, 1]  # Matches selected_features order\n",
    "similarity_scores = cosine_similarity([user_input], df_rec[selected_features])[0]\n"
   ]
  },
  {
   "cell_type": "code",
   "execution_count": 58,
   "id": "c72a5522",
   "metadata": {},
   "outputs": [],
   "source": [
    "\n",
    "# Step 11: Add similarity scores\n",
    "df_rec['similarity'] = similarity_scores\n"
   ]
  },
  {
   "cell_type": "code",
   "execution_count": 59,
   "id": "8f28f810",
   "metadata": {},
   "outputs": [],
   "source": [
    "\n",
    "# Step 12: Sort by similarity\n",
    "df_sorted = df_rec.sort_values(by='similarity', ascending=False)\n"
   ]
  },
  {
   "cell_type": "code",
   "execution_count": 60,
   "id": "12c8aedf",
   "metadata": {},
   "outputs": [
    {
     "name": "stdout",
     "output_type": "stream",
     "text": [
      "\n",
      "Step 13: Top Recommended Hotels in Goa:\n",
      "                           Hotel_Name  Hotel_Rating  Hotel_Price  similarity\n",
      "161  The LaLiT Golf & Spa Resort Goa           4.4      11855.0    0.666667\n"
     ]
    }
   ],
   "source": [
    "\n",
    "# Step 13: Show top recommendations\n",
    "print(f\"\\nStep 13: Top Recommended Hotels in {user_city.title()}:\\n\", df_sorted[['Hotel_Name', 'Hotel_Rating', 'Hotel_Price', 'similarity']].head(5))\n"
   ]
  },
  {
   "cell_type": "code",
   "execution_count": null,
   "id": "24d0ca59",
   "metadata": {},
   "outputs": [],
   "source": []
  }
 ],
 "metadata": {
  "kernelspec": {
   "display_name": "base",
   "language": "python",
   "name": "python3"
  },
  "language_info": {
   "codemirror_mode": {
    "name": "ipython",
    "version": 3
   },
   "file_extension": ".py",
   "mimetype": "text/x-python",
   "name": "python",
   "nbconvert_exporter": "python",
   "pygments_lexer": "ipython3",
   "version": "3.10.9"
  }
 },
 "nbformat": 4,
 "nbformat_minor": 5
}
